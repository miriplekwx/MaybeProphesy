{
 "cells": [
  {
   "cell_type": "code",
   "execution_count": 1,
   "id": "88952d48",
   "metadata": {},
   "outputs": [],
   "source": [
    "import pandas as pd"
   ]
  },
  {
   "cell_type": "code",
   "execution_count": 2,
   "id": "080ccc43",
   "metadata": {},
   "outputs": [],
   "source": [
    "data = pd.read_csv('btc520-1125.csv')"
   ]
  },
  {
   "cell_type": "code",
   "execution_count": 3,
   "id": "89243039",
   "metadata": {},
   "outputs": [
    {
     "data": {
      "text/html": [
       "<div>\n",
       "<style scoped>\n",
       "    .dataframe tbody tr th:only-of-type {\n",
       "        vertical-align: middle;\n",
       "    }\n",
       "\n",
       "    .dataframe tbody tr th {\n",
       "        vertical-align: top;\n",
       "    }\n",
       "\n",
       "    .dataframe thead th {\n",
       "        text-align: right;\n",
       "    }\n",
       "</style>\n",
       "<table border=\"1\" class=\"dataframe\">\n",
       "  <thead>\n",
       "    <tr style=\"text-align: right;\">\n",
       "      <th></th>\n",
       "      <th>Datetime</th>\n",
       "      <th>Open</th>\n",
       "      <th>High</th>\n",
       "      <th>Low</th>\n",
       "      <th>Close</th>\n",
       "      <th>Vol</th>\n",
       "    </tr>\n",
       "  </thead>\n",
       "  <tbody>\n",
       "    <tr>\n",
       "      <th>0</th>\n",
       "      <td>2022-05-20T00:00:00.000Z</td>\n",
       "      <td>30319.22</td>\n",
       "      <td>30330.92</td>\n",
       "      <td>30297.48</td>\n",
       "      <td>30315.62</td>\n",
       "      <td>70.43660</td>\n",
       "    </tr>\n",
       "    <tr>\n",
       "      <th>1</th>\n",
       "      <td>2022-05-20T00:01:00.000Z</td>\n",
       "      <td>30315.62</td>\n",
       "      <td>30315.62</td>\n",
       "      <td>30266.61</td>\n",
       "      <td>30266.62</td>\n",
       "      <td>20.53930</td>\n",
       "    </tr>\n",
       "    <tr>\n",
       "      <th>2</th>\n",
       "      <td>2022-05-20T00:02:00.000Z</td>\n",
       "      <td>30266.61</td>\n",
       "      <td>30307.51</td>\n",
       "      <td>30252.50</td>\n",
       "      <td>30300.47</td>\n",
       "      <td>58.76359</td>\n",
       "    </tr>\n",
       "    <tr>\n",
       "      <th>3</th>\n",
       "      <td>2022-05-20T00:03:00.000Z</td>\n",
       "      <td>30300.46</td>\n",
       "      <td>30335.63</td>\n",
       "      <td>30287.41</td>\n",
       "      <td>30287.42</td>\n",
       "      <td>44.36455</td>\n",
       "    </tr>\n",
       "    <tr>\n",
       "      <th>4</th>\n",
       "      <td>2022-05-20T00:04:00.000Z</td>\n",
       "      <td>30287.41</td>\n",
       "      <td>30325.88</td>\n",
       "      <td>30281.14</td>\n",
       "      <td>30314.94</td>\n",
       "      <td>42.87177</td>\n",
       "    </tr>\n",
       "    <tr>\n",
       "      <th>...</th>\n",
       "      <td>...</td>\n",
       "      <td>...</td>\n",
       "      <td>...</td>\n",
       "      <td>...</td>\n",
       "      <td>...</td>\n",
       "      <td>...</td>\n",
       "    </tr>\n",
       "    <tr>\n",
       "      <th>274676</th>\n",
       "      <td>2022-11-26T08:47:00.000Z</td>\n",
       "      <td>16581.67</td>\n",
       "      <td>16582.00</td>\n",
       "      <td>16576.78</td>\n",
       "      <td>16578.32</td>\n",
       "      <td>57.57595</td>\n",
       "    </tr>\n",
       "    <tr>\n",
       "      <th>274677</th>\n",
       "      <td>2022-11-26T08:48:00.000Z</td>\n",
       "      <td>16577.87</td>\n",
       "      <td>16578.88</td>\n",
       "      <td>16574.16</td>\n",
       "      <td>16577.44</td>\n",
       "      <td>71.65903</td>\n",
       "    </tr>\n",
       "    <tr>\n",
       "      <th>274678</th>\n",
       "      <td>2022-11-26T08:49:00.000Z</td>\n",
       "      <td>16577.44</td>\n",
       "      <td>16579.61</td>\n",
       "      <td>16575.89</td>\n",
       "      <td>16578.00</td>\n",
       "      <td>59.85920</td>\n",
       "    </tr>\n",
       "    <tr>\n",
       "      <th>274679</th>\n",
       "      <td>2022-11-26T08:50:00.000Z</td>\n",
       "      <td>16578.22</td>\n",
       "      <td>16579.67</td>\n",
       "      <td>16577.38</td>\n",
       "      <td>16578.43</td>\n",
       "      <td>33.62591</td>\n",
       "    </tr>\n",
       "    <tr>\n",
       "      <th>274680</th>\n",
       "      <td>2022-11-26T08:51:00.000Z</td>\n",
       "      <td>16578.43</td>\n",
       "      <td>16579.99</td>\n",
       "      <td>16577.77</td>\n",
       "      <td>16579.78</td>\n",
       "      <td>11.48556</td>\n",
       "    </tr>\n",
       "  </tbody>\n",
       "</table>\n",
       "<p>274681 rows × 6 columns</p>\n",
       "</div>"
      ],
      "text/plain": [
       "                        Datetime      Open      High       Low     Close  \\\n",
       "0       2022-05-20T00:00:00.000Z  30319.22  30330.92  30297.48  30315.62   \n",
       "1       2022-05-20T00:01:00.000Z  30315.62  30315.62  30266.61  30266.62   \n",
       "2       2022-05-20T00:02:00.000Z  30266.61  30307.51  30252.50  30300.47   \n",
       "3       2022-05-20T00:03:00.000Z  30300.46  30335.63  30287.41  30287.42   \n",
       "4       2022-05-20T00:04:00.000Z  30287.41  30325.88  30281.14  30314.94   \n",
       "...                          ...       ...       ...       ...       ...   \n",
       "274676  2022-11-26T08:47:00.000Z  16581.67  16582.00  16576.78  16578.32   \n",
       "274677  2022-11-26T08:48:00.000Z  16577.87  16578.88  16574.16  16577.44   \n",
       "274678  2022-11-26T08:49:00.000Z  16577.44  16579.61  16575.89  16578.00   \n",
       "274679  2022-11-26T08:50:00.000Z  16578.22  16579.67  16577.38  16578.43   \n",
       "274680  2022-11-26T08:51:00.000Z  16578.43  16579.99  16577.77  16579.78   \n",
       "\n",
       "             Vol  \n",
       "0       70.43660  \n",
       "1       20.53930  \n",
       "2       58.76359  \n",
       "3       44.36455  \n",
       "4       42.87177  \n",
       "...          ...  \n",
       "274676  57.57595  \n",
       "274677  71.65903  \n",
       "274678  59.85920  \n",
       "274679  33.62591  \n",
       "274680  11.48556  \n",
       "\n",
       "[274681 rows x 6 columns]"
      ]
     },
     "execution_count": 3,
     "metadata": {},
     "output_type": "execute_result"
    }
   ],
   "source": [
    "data"
   ]
  },
  {
   "cell_type": "code",
   "execution_count": 27,
   "id": "7b2595c0",
   "metadata": {},
   "outputs": [],
   "source": [
    "class Data:\n",
    "    def __init__(self, df):\n",
    "        self.data = df\n",
    "    \n",
    "    '''预处理函数-离散化'''\n",
    "    def pre_dis(self, feature_name, n, sample_ratio = 0.1):\n",
    "        float_list = list(self.data[feature_name].sample(frac=sample_ratio))\n",
    "        float_list.sort()\n",
    "        scales = [float_list[int(len(float_list)/(n+1))*i] for i in range(1,n+1)]\n",
    "        return scales"
   ]
  },
  {
   "cell_type": "code",
   "execution_count": 28,
   "id": "34e051a4",
   "metadata": {},
   "outputs": [],
   "source": [
    "dd = Data(data)"
   ]
  },
  {
   "cell_type": "code",
   "execution_count": 29,
   "id": "8b6b19c6",
   "metadata": {},
   "outputs": [],
   "source": [
    "a = list(dd.data.Vol)\n",
    "a.sort()\n",
    "a=0"
   ]
  },
  {
   "cell_type": "code",
   "execution_count": 30,
   "id": "0bcab39b",
   "metadata": {},
   "outputs": [
    {
     "data": {
      "text/plain": [
       "[23.81631,\n",
       " 42.21301,\n",
       " 60.02378,\n",
       " 78.88745,\n",
       " 100.65484,\n",
       " 125.90632,\n",
       " 159.53546,\n",
       " 209.01584,\n",
       " 304.51496]"
      ]
     },
     "execution_count": 30,
     "metadata": {},
     "output_type": "execute_result"
    }
   ],
   "source": [
    "dd.pre_dis(feature_name='Vol',n=9,sample_ratio=0.1)"
   ]
  },
  {
   "cell_type": "code",
   "execution_count": null,
   "id": "dd96f879",
   "metadata": {},
   "outputs": [],
   "source": []
  }
 ],
 "metadata": {
  "kernelspec": {
   "display_name": "coin",
   "language": "python",
   "name": "coin"
  },
  "language_info": {
   "codemirror_mode": {
    "name": "ipython",
    "version": 3
   },
   "file_extension": ".py",
   "mimetype": "text/x-python",
   "name": "python",
   "nbconvert_exporter": "python",
   "pygments_lexer": "ipython3",
   "version": "3.8.15"
  }
 },
 "nbformat": 4,
 "nbformat_minor": 5
}
